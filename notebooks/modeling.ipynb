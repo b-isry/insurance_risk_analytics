{
 "cells": [
  {
   "cell_type": "markdown",
   "id": "54a6b71d",
   "metadata": {},
   "source": [
    "# Import Required Libraries\n",
    "This cell imports essential libraries for data manipulation, model training, and evaluation."
   ]
  },
  {
   "cell_type": "code",
   "execution_count": 2,
   "id": "ab4169a2",
   "metadata": {},
   "outputs": [],
   "source": [
    "import sys\n",
    "import os\n",
    "import pandas as pd\n",
    "from sklearn.model_selection import train_test_split\n",
    "from sklearn.ensemble import RandomForestRegressor\n",
    "from sklearn.metrics import mean_squared_error, r2_score\n",
    "import numpy as np"
   ]
  },
  {
   "cell_type": "markdown",
   "id": "e20e4033",
   "metadata": {},
   "source": [
    "# Load Data\n",
    "This cell pulls the latest data using DVC, constructs the data path, and loads the insurance dataset into a pandas DataFrame."
   ]
  },
  {
   "cell_type": "code",
   "execution_count": 3,
   "id": "4518e27d",
   "metadata": {},
   "outputs": [
    {
     "name": "stdout",
     "output_type": "stream",
     "text": [
      "Everything is up to date.\n"
     ]
    },
    {
     "name": "stderr",
     "output_type": "stream",
     "text": [
      "C:\\Users\\Bisrat\\AppData\\Local\\Temp\\ipykernel_1932\\825271066.py:5: DtypeWarning: Columns (32,37) have mixed types. Specify dtype option on import or set low_memory=False.\n",
      "  df = pd.read_csv(data_path, delimiter=\"|\")\n"
     ]
    }
   ],
   "source": [
    "!dvc pull\n",
    "notebook_dir = os.getcwd()\n",
    "data_path = os.path.join(notebook_dir, \"..\", \"data\", \"MachineLearningRating_v3.txt\")\n",
    "\n",
    "df = pd.read_csv(data_path, delimiter=\"|\")"
   ]
  },
  {
   "cell_type": "markdown",
   "id": "75c28d76",
   "metadata": {},
   "source": [
    "# Drop Rows with Missing Target Values\n",
    "This cell removes rows where the target variables (TotalClaims, CalculatedPremiumPerTerm) are missing to ensure clean training data."
   ]
  },
  {
   "cell_type": "code",
   "execution_count": 4,
   "id": "30ad94bf",
   "metadata": {},
   "outputs": [],
   "source": [
    "# Drop rows where target variables are missing\n",
    "df = df.dropna(subset=[\"TotalClaims\", \"CalculatedPremiumPerTerm\"])"
   ]
  },
  {
   "cell_type": "markdown",
   "id": "a4b9765f",
   "metadata": {},
   "source": [
    "# Add Claim Occurrence Column\n",
    "This cell adds a boolean column indicating whether a claim occurred for each policy."
   ]
  },
  {
   "cell_type": "code",
   "execution_count": 5,
   "id": "b0c02c64",
   "metadata": {},
   "outputs": [],
   "source": [
    "# Add a boolean column for claims\n",
    "df[\"ClaimOccurred\"] = df[\"TotalClaims\"] > 0"
   ]
  },
  {
   "cell_type": "markdown",
   "id": "5075617d",
   "metadata": {},
   "source": [
    "# Feature Engineering: Vehicle Age and Correlation\n",
    "This cell creates a VehicleAge feature and examines its correlation with claims and premiums."
   ]
  },
  {
   "cell_type": "code",
   "execution_count": 6,
   "id": "b87f258b",
   "metadata": {},
   "outputs": [
    {
     "data": {
      "text/html": [
       "<div>\n",
       "<style scoped>\n",
       "    .dataframe tbody tr th:only-of-type {\n",
       "        vertical-align: middle;\n",
       "    }\n",
       "\n",
       "    .dataframe tbody tr th {\n",
       "        vertical-align: top;\n",
       "    }\n",
       "\n",
       "    .dataframe thead th {\n",
       "        text-align: right;\n",
       "    }\n",
       "</style>\n",
       "<table border=\"1\" class=\"dataframe\">\n",
       "  <thead>\n",
       "    <tr style=\"text-align: right;\">\n",
       "      <th></th>\n",
       "      <th>VehicleAge</th>\n",
       "      <th>TotalClaims</th>\n",
       "      <th>CalculatedPremiumPerTerm</th>\n",
       "    </tr>\n",
       "  </thead>\n",
       "  <tbody>\n",
       "    <tr>\n",
       "      <th>VehicleAge</th>\n",
       "      <td>1.000000</td>\n",
       "      <td>-0.005197</td>\n",
       "      <td>-0.065814</td>\n",
       "    </tr>\n",
       "    <tr>\n",
       "      <th>TotalClaims</th>\n",
       "      <td>-0.005197</td>\n",
       "      <td>1.000000</td>\n",
       "      <td>0.079787</td>\n",
       "    </tr>\n",
       "    <tr>\n",
       "      <th>CalculatedPremiumPerTerm</th>\n",
       "      <td>-0.065814</td>\n",
       "      <td>0.079787</td>\n",
       "      <td>1.000000</td>\n",
       "    </tr>\n",
       "  </tbody>\n",
       "</table>\n",
       "</div>"
      ],
      "text/plain": [
       "                          VehicleAge  TotalClaims  CalculatedPremiumPerTerm\n",
       "VehicleAge                  1.000000    -0.005197                 -0.065814\n",
       "TotalClaims                -0.005197     1.000000                  0.079787\n",
       "CalculatedPremiumPerTerm   -0.065814     0.079787                  1.000000"
      ]
     },
     "execution_count": 6,
     "metadata": {},
     "output_type": "execute_result"
    }
   ],
   "source": [
    "df[\"VehicleAge\"] = 2015 - df[\"RegistrationYear\"]\n",
    "\n",
    "df[[\"VehicleAge\", \"TotalClaims\", \"CalculatedPremiumPerTerm\"]].corr()\n"
   ]
  },
  {
   "cell_type": "markdown",
   "id": "019a4d45",
   "metadata": {},
   "source": [
    "# Encode Categorical Variables\n",
    "This cell selects categorical columns, applies one-hot encoding, and inspects the resulting DataFrame."
   ]
  },
  {
   "cell_type": "code",
   "execution_count": 7,
   "id": "1121324c",
   "metadata": {},
   "outputs": [
    {
     "data": {
      "text/html": [
       "<div>\n",
       "<style scoped>\n",
       "    .dataframe tbody tr th:only-of-type {\n",
       "        vertical-align: middle;\n",
       "    }\n",
       "\n",
       "    .dataframe tbody tr th {\n",
       "        vertical-align: top;\n",
       "    }\n",
       "\n",
       "    .dataframe thead th {\n",
       "        text-align: right;\n",
       "    }\n",
       "</style>\n",
       "<table border=\"1\" class=\"dataframe\">\n",
       "  <thead>\n",
       "    <tr style=\"text-align: right;\">\n",
       "      <th></th>\n",
       "      <th>UnderwrittenCoverID</th>\n",
       "      <th>PolicyID</th>\n",
       "      <th>TransactionMonth</th>\n",
       "      <th>IsVATRegistered</th>\n",
       "      <th>Citizenship</th>\n",
       "      <th>LegalType</th>\n",
       "      <th>Title</th>\n",
       "      <th>Language</th>\n",
       "      <th>Bank</th>\n",
       "      <th>AccountType</th>\n",
       "      <th>...</th>\n",
       "      <th>CoverType_Keys and Alarms</th>\n",
       "      <th>CoverType_Own Damage</th>\n",
       "      <th>CoverType_Passenger Liability</th>\n",
       "      <th>CoverType_Roadside Assistance</th>\n",
       "      <th>CoverType_Signage and Vehicle Wraps</th>\n",
       "      <th>CoverType_Standalone passenger liability</th>\n",
       "      <th>CoverType_Third Party</th>\n",
       "      <th>CoverType_Third Party Only</th>\n",
       "      <th>CoverType_Trailer</th>\n",
       "      <th>CoverType_Windscreen</th>\n",
       "    </tr>\n",
       "  </thead>\n",
       "  <tbody>\n",
       "    <tr>\n",
       "      <th>0</th>\n",
       "      <td>145249</td>\n",
       "      <td>12827</td>\n",
       "      <td>2015-03-01 00:00:00</td>\n",
       "      <td>True</td>\n",
       "      <td></td>\n",
       "      <td>Close Corporation</td>\n",
       "      <td>Mr</td>\n",
       "      <td>English</td>\n",
       "      <td>First National Bank</td>\n",
       "      <td>Current account</td>\n",
       "      <td>...</td>\n",
       "      <td>False</td>\n",
       "      <td>False</td>\n",
       "      <td>False</td>\n",
       "      <td>False</td>\n",
       "      <td>False</td>\n",
       "      <td>False</td>\n",
       "      <td>False</td>\n",
       "      <td>False</td>\n",
       "      <td>False</td>\n",
       "      <td>True</td>\n",
       "    </tr>\n",
       "    <tr>\n",
       "      <th>1</th>\n",
       "      <td>145249</td>\n",
       "      <td>12827</td>\n",
       "      <td>2015-05-01 00:00:00</td>\n",
       "      <td>True</td>\n",
       "      <td></td>\n",
       "      <td>Close Corporation</td>\n",
       "      <td>Mr</td>\n",
       "      <td>English</td>\n",
       "      <td>First National Bank</td>\n",
       "      <td>Current account</td>\n",
       "      <td>...</td>\n",
       "      <td>False</td>\n",
       "      <td>False</td>\n",
       "      <td>False</td>\n",
       "      <td>False</td>\n",
       "      <td>False</td>\n",
       "      <td>False</td>\n",
       "      <td>False</td>\n",
       "      <td>False</td>\n",
       "      <td>False</td>\n",
       "      <td>True</td>\n",
       "    </tr>\n",
       "    <tr>\n",
       "      <th>2</th>\n",
       "      <td>145249</td>\n",
       "      <td>12827</td>\n",
       "      <td>2015-07-01 00:00:00</td>\n",
       "      <td>True</td>\n",
       "      <td></td>\n",
       "      <td>Close Corporation</td>\n",
       "      <td>Mr</td>\n",
       "      <td>English</td>\n",
       "      <td>First National Bank</td>\n",
       "      <td>Current account</td>\n",
       "      <td>...</td>\n",
       "      <td>False</td>\n",
       "      <td>False</td>\n",
       "      <td>False</td>\n",
       "      <td>False</td>\n",
       "      <td>False</td>\n",
       "      <td>False</td>\n",
       "      <td>False</td>\n",
       "      <td>False</td>\n",
       "      <td>False</td>\n",
       "      <td>True</td>\n",
       "    </tr>\n",
       "    <tr>\n",
       "      <th>3</th>\n",
       "      <td>145255</td>\n",
       "      <td>12827</td>\n",
       "      <td>2015-05-01 00:00:00</td>\n",
       "      <td>True</td>\n",
       "      <td></td>\n",
       "      <td>Close Corporation</td>\n",
       "      <td>Mr</td>\n",
       "      <td>English</td>\n",
       "      <td>First National Bank</td>\n",
       "      <td>Current account</td>\n",
       "      <td>...</td>\n",
       "      <td>False</td>\n",
       "      <td>True</td>\n",
       "      <td>False</td>\n",
       "      <td>False</td>\n",
       "      <td>False</td>\n",
       "      <td>False</td>\n",
       "      <td>False</td>\n",
       "      <td>False</td>\n",
       "      <td>False</td>\n",
       "      <td>False</td>\n",
       "    </tr>\n",
       "    <tr>\n",
       "      <th>4</th>\n",
       "      <td>145255</td>\n",
       "      <td>12827</td>\n",
       "      <td>2015-07-01 00:00:00</td>\n",
       "      <td>True</td>\n",
       "      <td></td>\n",
       "      <td>Close Corporation</td>\n",
       "      <td>Mr</td>\n",
       "      <td>English</td>\n",
       "      <td>First National Bank</td>\n",
       "      <td>Current account</td>\n",
       "      <td>...</td>\n",
       "      <td>False</td>\n",
       "      <td>True</td>\n",
       "      <td>False</td>\n",
       "      <td>False</td>\n",
       "      <td>False</td>\n",
       "      <td>False</td>\n",
       "      <td>False</td>\n",
       "      <td>False</td>\n",
       "      <td>False</td>\n",
       "      <td>False</td>\n",
       "    </tr>\n",
       "  </tbody>\n",
       "</table>\n",
       "<p>5 rows × 538 columns</p>\n",
       "</div>"
      ],
      "text/plain": [
       "   UnderwrittenCoverID  PolicyID     TransactionMonth  IsVATRegistered  \\\n",
       "0               145249     12827  2015-03-01 00:00:00             True   \n",
       "1               145249     12827  2015-05-01 00:00:00             True   \n",
       "2               145249     12827  2015-07-01 00:00:00             True   \n",
       "3               145255     12827  2015-05-01 00:00:00             True   \n",
       "4               145255     12827  2015-07-01 00:00:00             True   \n",
       "\n",
       "  Citizenship          LegalType Title Language                 Bank  \\\n",
       "0              Close Corporation    Mr  English  First National Bank   \n",
       "1              Close Corporation    Mr  English  First National Bank   \n",
       "2              Close Corporation    Mr  English  First National Bank   \n",
       "3              Close Corporation    Mr  English  First National Bank   \n",
       "4              Close Corporation    Mr  English  First National Bank   \n",
       "\n",
       "       AccountType  ... CoverType_Keys and Alarms CoverType_Own Damage  \\\n",
       "0  Current account  ...                     False                False   \n",
       "1  Current account  ...                     False                False   \n",
       "2  Current account  ...                     False                False   \n",
       "3  Current account  ...                     False                 True   \n",
       "4  Current account  ...                     False                 True   \n",
       "\n",
       "   CoverType_Passenger Liability CoverType_Roadside Assistance  \\\n",
       "0                          False                         False   \n",
       "1                          False                         False   \n",
       "2                          False                         False   \n",
       "3                          False                         False   \n",
       "4                          False                         False   \n",
       "\n",
       "  CoverType_Signage and Vehicle Wraps  \\\n",
       "0                               False   \n",
       "1                               False   \n",
       "2                               False   \n",
       "3                               False   \n",
       "4                               False   \n",
       "\n",
       "  CoverType_Standalone passenger liability  CoverType_Third Party  \\\n",
       "0                                    False                  False   \n",
       "1                                    False                  False   \n",
       "2                                    False                  False   \n",
       "3                                    False                  False   \n",
       "4                                    False                  False   \n",
       "\n",
       "   CoverType_Third Party Only  CoverType_Trailer  CoverType_Windscreen  \n",
       "0                       False              False                  True  \n",
       "1                       False              False                  True  \n",
       "2                       False              False                  True  \n",
       "3                       False              False                 False  \n",
       "4                       False              False                 False  \n",
       "\n",
       "[5 rows x 538 columns]"
      ]
     },
     "execution_count": 7,
     "metadata": {},
     "output_type": "execute_result"
    }
   ],
   "source": [
    "# Choose categorical variables\n",
    "categorical_cols = [\"Gender\", \"Province\", \"VehicleType\", \"make\", \"Model\", \"CoverType\"]\n",
    "\n",
    "# One-hot encode\n",
    "df_encoded = pd.get_dummies(df, columns=categorical_cols, drop_first=True)\n",
    "\n",
    "# Inspect\n",
    "df_encoded.head()\n"
   ]
  },
  {
   "cell_type": "markdown",
   "id": "a626e53c",
   "metadata": {},
   "source": [
    "# Save Cleaned Dataset\n",
    "This cell saves the cleaned and encoded dataset for future use."
   ]
  },
  {
   "cell_type": "code",
   "execution_count": 9,
   "id": "4c6cf583",
   "metadata": {},
   "outputs": [],
   "source": [
    "# Save the cleaned dataset\n",
    "df_encoded.to_csv(\"../data/cleaned_encoded_data.csv\", index=False)\n"
   ]
  },
  {
   "cell_type": "markdown",
   "id": "cc92bcfd",
   "metadata": {},
   "source": [
    "# Prepare Data for Severity Modeling\n",
    "This cell filters for rows with claims, defines features and target, and splits the data into training and test sets."
   ]
  },
  {
   "cell_type": "code",
   "execution_count": 8,
   "id": "6d7c1bab",
   "metadata": {},
   "outputs": [],
   "source": [
    "df_claims = df_encoded[df_encoded[\"ClaimOccurred\"] == True]\n",
    "\n",
    "# Define features and target\n",
    "X = df_claims.drop(columns=[\"TotalClaims\", \"CalculatedPremiumPerTerm\", \"ClaimOccurred\"])\n",
    "y = df_claims[\"TotalClaims\"]\n",
    "\n",
    "# Split\n",
    "X_train, X_test, y_train, y_test = train_test_split(X, y, test_size=0.2, random_state=42)"
   ]
  },
  {
   "cell_type": "markdown",
   "id": "284ad296",
   "metadata": {},
   "source": [
    "# Train and Evaluate Random Forest Regressor\n",
    "This cell trains a Random Forest model to predict claim severity and evaluates its performance."
   ]
  },
  {
   "cell_type": "code",
   "execution_count": 9,
   "id": "af5d4e39",
   "metadata": {},
   "outputs": [
    {
     "name": "stdout",
     "output_type": "stream",
     "text": [
      "RMSE: 38063.68\n",
      "R²: 0.10\n"
     ]
    }
   ],
   "source": [
    "# Drop non-numeric columns from features\n",
    "X_train_num = X_train.select_dtypes(exclude=['object'])\n",
    "X_test_num = X_test.select_dtypes(exclude=['object'])\n",
    "\n",
    "model = RandomForestRegressor(random_state=42)\n",
    "model.fit(X_train_num, y_train)\n",
    "\n",
    "# Predict\n",
    "y_pred = model.predict(X_test_num)\n",
    "\n",
    "# Evaluate\n",
    "rmse = np.sqrt(mean_squared_error(y_test, y_pred))\n",
    "r2 = r2_score(y_test, y_pred)\n",
    "\n",
    "print(f\"RMSE: {rmse:.2f}\")\n",
    "print(f\"R²: {r2:.2f}\")\n"
   ]
  },
  {
   "cell_type": "markdown",
   "id": "e51c1996",
   "metadata": {},
   "source": [
    "# Train and Evaluate Linear Regression Model\n",
    "This cell imputes missing values, trains a linear regression model, and evaluates its performance."
   ]
  },
  {
   "cell_type": "code",
   "execution_count": 11,
   "id": "cd2f5d2f",
   "metadata": {},
   "outputs": [
    {
     "name": "stderr",
     "output_type": "stream",
     "text": [
      "c:\\Users\\Bisrat\\Desktop\\KAIM\\insurance_risk_analytics\\venv\\Lib\\site-packages\\sklearn\\impute\\_base.py:637: UserWarning: Skipping features without any observed values: ['NumberOfVehiclesInFleet']. At least one non-missing value is needed for imputation with strategy='mean'.\n",
      "  warnings.warn(\n",
      "c:\\Users\\Bisrat\\Desktop\\KAIM\\insurance_risk_analytics\\venv\\Lib\\site-packages\\sklearn\\impute\\_base.py:637: UserWarning: Skipping features without any observed values: ['NumberOfVehiclesInFleet']. At least one non-missing value is needed for imputation with strategy='mean'.\n",
      "  warnings.warn(\n"
     ]
    },
    {
     "name": "stdout",
     "output_type": "stream",
     "text": [
      "Linear Regression - RMSE: 34704.31, R²: 0.25\n"
     ]
    }
   ],
   "source": [
    "from sklearn.linear_model import LinearRegression\n",
    "from sklearn.impute import SimpleImputer\n",
    "\n",
    "# Use SimpleImputer to fill NaN values with column means\n",
    "imputer = SimpleImputer(strategy=\"mean\")\n",
    "X_train_num_filled = imputer.fit_transform(X_train_num)\n",
    "X_test_num_filled = imputer.transform(X_test_num)\n",
    "\n",
    "lr_model = LinearRegression()\n",
    "lr_model.fit(X_train_num_filled, y_train)\n",
    "\n",
    "# Predict\n",
    "lr_pred = lr_model.predict(X_test_num_filled)\n",
    "\n",
    "lr_rmse = np.sqrt(mean_squared_error(y_test, lr_pred))\n",
    "lr_r2 = r2_score(y_test, lr_pred)\n",
    "\n",
    "print(f\"Linear Regression - RMSE: {lr_rmse:.2f}, R²: {lr_r2:.2f}\")\n"
   ]
  },
  {
   "cell_type": "markdown",
   "id": "f08c616b",
   "metadata": {},
   "source": [
    "# Train and Evaluate XGBoost Regressor\n",
    "This cell trains an XGBoost regressor on numeric features and evaluates its performance."
   ]
  },
  {
   "cell_type": "code",
   "execution_count": 12,
   "id": "f645fb0c",
   "metadata": {},
   "outputs": [
    {
     "name": "stdout",
     "output_type": "stream",
     "text": [
      "XGBoost - RMSE: 38959.12, R²: 0.06\n"
     ]
    }
   ],
   "source": [
    "from xgboost import XGBRegressor\n",
    "\n",
    "# Use only numeric columns for XGBoost, as with RandomForest\n",
    "xgb_model = XGBRegressor(random_state=42, n_estimators=100, learning_rate=0.1)\n",
    "xgb_model.fit(X_train_num, y_train)\n",
    "\n",
    "xgb_pred = xgb_model.predict(X_test_num)\n",
    "\n",
    "xgb_rmse = np.sqrt(mean_squared_error(y_test, xgb_pred))\n",
    "xgb_r2 = r2_score(y_test, xgb_pred)\n",
    "\n",
    "print(f\"XGBoost - RMSE: {xgb_rmse:.2f}, R²: {xgb_r2:.2f}\")\n"
   ]
  },
  {
   "cell_type": "markdown",
   "id": "2f810011",
   "metadata": {},
   "source": [
    "# Compare Model Results\n",
    "This cell summarizes and compares the performance metrics of all trained models."
   ]
  },
  {
   "cell_type": "code",
   "execution_count": 13,
   "id": "04513384",
   "metadata": {},
   "outputs": [
    {
     "name": "stdout",
     "output_type": "stream",
     "text": [
      "               Model          RMSE        R²\n",
      "0  Linear Regression  34704.312875  0.251117\n",
      "1      Random Forest  38063.679302  0.099117\n",
      "2            XGBoost  38959.122944  0.056232\n"
     ]
    }
   ],
   "source": [
    "results = {\n",
    "    \"Model\": [\"Linear Regression\", \"Random Forest\", \"XGBoost\"],\n",
    "    \"RMSE\": [lr_rmse, rmse, xgb_rmse],\n",
    "    \"R²\": [lr_r2, r2, xgb_r2]\n",
    "}\n",
    "\n",
    "import pandas as pd\n",
    "results_df = pd.DataFrame(results)\n",
    "print(results_df)\n"
   ]
  },
  {
   "cell_type": "markdown",
   "id": "90194d9a",
   "metadata": {},
   "source": [
    "# SHAP Analysis for Model Explainability\n",
    "This cell uses SHAP to explain the feature importance of the trained Random Forest model."
   ]
  },
  {
   "cell_type": "code",
   "execution_count": 17,
   "id": "838ef45b",
   "metadata": {},
   "outputs": [
    {
     "name": "stderr",
     "output_type": "stream",
     "text": [
      " 97%|=================== | 542/558 [00:36<00:01]       "
     ]
    },
    {
     "data": {
      "image/png": "[encoded data removed]",
      "text/plain": [
       "<Figure size 800x650 with 1 Axes>"
      ]
     },
     "metadata": {},
     "output_type": "display_data"
    }
   ],
   "source": [
    "import shap\n",
    "\n",
    "# Ensure columns and order match training data\n",
    "X_test_num_fixed = X_test_num[X_train_num.columns].astype(float)\n",
    "\n",
    "# SHAP needs a TreeExplainer for tree-based models\n",
    "explainer = shap.Explainer(model, X_test_num_fixed)\n",
    "shap_values = explainer(X_test_num_fixed, check_additivity=False)\n",
    "\n",
    "# Summary Plot (Global Importance)\n",
    "shap.plots.bar(shap_values, max_display=10)\n"
   ]
  }
 ],
 "metadata": {
  "kernelspec": {
   "display_name": "venv",
   "language": "python",
   "name": "python3"
  },
  "language_info": {
   "codemirror_mode": {
    "name": "ipython",
    "version": 3
   },
   "file_extension": ".py",
   "mimetype": "text/x-python",
   "name": "python",
   "nbconvert_exporter": "python",
   "pygments_lexer": "ipython3",
   "version": "3.12.6"
  }
 },
 "nbformat": 4,
 "nbformat_minor": 5
}
