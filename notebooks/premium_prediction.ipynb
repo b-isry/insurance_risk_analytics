{
 "cells": [
  {
   "cell_type": "code",
   "execution_count": 1,
   "id": "c9084e72",
   "metadata": {},
   "outputs": [],
   "source": [
    "import sys\n",
    "import os\n",
    "import pandas as pd\n",
    "from sklearn.model_selection import train_test_split\n",
    "from sklearn.ensemble import RandomForestRegressor\n",
    "from sklearn.metrics import mean_squared_error, r2_score\n",
    "import numpy as np"
   ]
  },
  {
   "cell_type": "code",
   "execution_count": 2,
   "id": "5e6238f2",
   "metadata": {},
   "outputs": [
    {
     "name": "stdout",
     "output_type": "stream",
     "text": [
      "Everything is up to date.\n"
     ]
    },
    {
     "name": "stderr",
     "output_type": "stream",
     "text": [
      "C:\\Users\\Bisrat\\AppData\\Local\\Temp\\ipykernel_2304\\825271066.py:5: DtypeWarning: Columns (32,37) have mixed types. Specify dtype option on import or set low_memory=False.\n",
      "  df = pd.read_csv(data_path, delimiter=\"|\")\n"
     ]
    }
   ],
   "source": [
    "!dvc pull\n",
    "notebook_dir = os.getcwd()\n",
    "data_path = os.path.join(notebook_dir, \"..\", \"data\", \"MachineLearningRating_v3.txt\")\n",
    "\n",
    "df = pd.read_csv(data_path, delimiter=\"|\")"
   ]
  },
  {
   "cell_type": "code",
   "execution_count": 3,
   "id": "36960cf4",
   "metadata": {},
   "outputs": [],
   "source": [
    "# Drop rows where target variables are missing\n",
    "df = df.dropna(subset=[\"TotalClaims\", \"CalculatedPremiumPerTerm\"])"
   ]
  },
  {
   "cell_type": "code",
   "execution_count": 4,
   "id": "0912197f",
   "metadata": {},
   "outputs": [],
   "source": [
    "# Target: has_claim (1 if TotalClaims > 0 else 0)\n",
    "df[\"has_claim\"] = df[\"TotalClaims\"].apply(lambda x: 1 if x > 0 else 0)\n",
    "\n",
    "# Define features and target\n",
    "X = df.drop(columns=[\"TotalClaims\", \"CalculatedPremiumPerTerm\", \"has_claim\"])\n",
    "y = df[\"has_claim\"]\n",
    "\n",
    "from sklearn.model_selection import train_test_split\n",
    "X_train, X_test, y_train, y_test = train_test_split(X, y, test_size=0.2, random_state=42)\n"
   ]
  },
  {
   "cell_type": "code",
   "execution_count": 5,
   "id": "8bb52fe7",
   "metadata": {},
   "outputs": [
    {
     "name": "stdout",
     "output_type": "stream",
     "text": [
      "ROC-AUC: 0.5867018561937145\n",
      "              precision    recall  f1-score   support\n",
      "\n",
      "           0       1.00      1.00      1.00    199439\n",
      "           1       0.03      0.00      0.00       581\n",
      "\n",
      "    accuracy                           1.00    200020\n",
      "   macro avg       0.51      0.50      0.50    200020\n",
      "weighted avg       0.99      1.00      1.00    200020\n",
      "\n"
     ]
    }
   ],
   "source": [
    "from sklearn.ensemble import RandomForestClassifier\n",
    "from sklearn.metrics import classification_report, roc_auc_score\n",
    "\n",
    "# Select only numeric columns\n",
    "X_train_num = X_train.select_dtypes(exclude=['object'])\n",
    "X_test_num = X_test.select_dtypes(exclude=['object'])\n",
    "\n",
    "clf = RandomForestClassifier(n_estimators=100, random_state=42)\n",
    "clf.fit(X_train_num, y_train)\n",
    "\n",
    "# Predict probabilities\n",
    "claim_probs = clf.predict_proba(X_test_num)[:, 1]\n",
    "\n",
    "# Evaluate\n",
    "print(\"ROC-AUC:\", roc_auc_score(y_test, claim_probs))\n",
    "print(classification_report(y_test, clf.predict(X_test_num)))"
   ]
  },
  {
   "cell_type": "code",
   "execution_count": 6,
   "id": "8acaa508",
   "metadata": {},
   "outputs": [],
   "source": [
    "# Save for later merging with severity prediction\n",
    "X_test_claim = X_test.copy()\n",
    "X_test_claim[\"claim_prob\"] = claim_probs\n",
    "X_test_claim[\"actual_claim\"] = y_test.values"
   ]
  },
  {
   "cell_type": "code",
   "execution_count": 8,
   "id": "00c1ae47",
   "metadata": {},
   "outputs": [],
   "source": [
    "# Predict severity for claimants using mean severity from training data as a placeholder\n",
    "mean_severity = df.loc[df[\"has_claim\"] == 1, \"TotalClaims\"].mean()\n",
    "X_test_claim[\"predicted_severity\"] = mean_severity\n",
    "\n",
    "X_test_claim[\"expected_loss\"] = X_test_claim[\"claim_prob\"] * X_test_claim[\"predicted_severity\"]\n"
   ]
  },
  {
   "cell_type": "code",
   "execution_count": 9,
   "id": "afa6bc58",
   "metadata": {},
   "outputs": [],
   "source": [
    "X_test_claim[\"optimized_premium\"] = X_test_claim[\"expected_loss\"] * 1.2  # 20% margin"
   ]
  },
  {
   "cell_type": "code",
   "execution_count": 11,
   "id": "2d0c29d4",
   "metadata": {},
   "outputs": [
    {
     "data": {
      "image/png": "[encoded data removed]",
      "text/plain": [
       "<Figure size 640x480 with 1 Axes>"
      ]
     },
     "metadata": {},
     "output_type": "display_data"
    }
   ],
   "source": [
    "import matplotlib.pyplot as plt\n",
    "\n",
    "# Merge CalculatedPremiumPerTerm from df into X_test_claim\n",
    "if \"CalculatedPremiumPerTerm\" not in X_test_claim.columns:\n",
    "\tX_test_claim = X_test_claim.merge(\n",
    "\t\tdf[[\"UnderwrittenCoverID\", \"PolicyID\", \"CalculatedPremiumPerTerm\"]],\n",
    "\t\ton=[\"UnderwrittenCoverID\", \"PolicyID\"],\n",
    "\t\thow=\"left\"\n",
    "\t)\n",
    "\n",
    "plt.scatter(X_test_claim[\"CalculatedPremiumPerTerm\"], X_test_claim[\"optimized_premium\"], alpha=0.5)\n",
    "plt.xlabel(\"Original Premium\")\n",
    "plt.ylabel(\"Optimized Premium\")\n",
    "plt.title(\"Original vs Optimized Premiums\")\n",
    "plt.plot([0, 10000], [0, 10000], '--r')  # reference line\n",
    "plt.grid(True)\n",
    "plt.show()"
   ]
  }
 ],
 "metadata": {
  "kernelspec": {
   "display_name": "venv",
   "language": "python",
   "name": "python3"
  },
  "language_info": {
   "codemirror_mode": {
    "name": "ipython",
    "version": 3
   },
   "file_extension": ".py",
   "mimetype": "text/x-python",
   "name": "python",
   "nbconvert_exporter": "python",
   "pygments_lexer": "ipython3",
   "version": "3.12.6"
  }
 },
 "nbformat": 4,
 "nbformat_minor": 5
}
