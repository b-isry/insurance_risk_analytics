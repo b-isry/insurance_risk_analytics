{
 "cells": [
  {
   "cell_type": "markdown",
   "id": "db18768a",
   "metadata": {},
   "source": [
    "# Import Required Libraries\n",
    "This cell imports the necessary libraries for data analysis and visualization, including pandas, seaborn, matplotlib, and os."
   ]
  },
  {
   "cell_type": "code",
   "execution_count": 22,
   "id": "c8c9bfc8",
   "metadata": {},
   "outputs": [],
   "source": [
    "import pandas as pd\n",
    "import seaborn as sns\n",
    "import matplotlib.pyplot as plt\n",
    "import os\n"
   ]
  },
  {
   "cell_type": "markdown",
   "id": "d4088deb",
   "metadata": {},
   "source": [
    "# Load the Data\n",
    "This cell constructs the path to the data file and loads the insurance dataset into a pandas DataFrame."
   ]
  },
  {
   "cell_type": "code",
   "execution_count": 21,
   "id": "bddb50db",
   "metadata": {},
   "outputs": [
    {
     "name": "stderr",
     "output_type": "stream",
     "text": [
      "C:\\Users\\Bisrat\\AppData\\Local\\Temp\\ipykernel_10448\\130270177.py:4: DtypeWarning: Columns (32,37) have mixed types. Specify dtype option on import or set low_memory=False.\n",
      "  df = pd.read_csv(data_path, delimiter=\"|\")\n"
     ]
    }
   ],
   "source": [
    "notebook_dir = os.getcwd()\n",
    "data_path = os.path.join(notebook_dir, \"..\", \"data\", \"MachineLearningRating_v3.txt\")\n",
    "\n",
    "df = pd.read_csv(data_path, delimiter=\"|\")"
   ]
  },
  {
   "cell_type": "markdown",
   "id": "c6255ab7",
   "metadata": {},
   "source": [
    "# Descriptive Statistics\n",
    "This cell displays summary statistics for the TotalPremium, TotalClaims, and CustomValueEstimate columns."
   ]
  },
  {
   "cell_type": "code",
   "execution_count": 9,
   "id": "f54e53ce",
   "metadata": {},
   "outputs": [
    {
     "data": {
      "text/html": [
       "<div>\n",
       "<style scoped>\n",
       "    .dataframe tbody tr th:only-of-type {\n",
       "        vertical-align: middle;\n",
       "    }\n",
       "\n",
       "    .dataframe tbody tr th {\n",
       "        vertical-align: top;\n",
       "    }\n",
       "\n",
       "    .dataframe thead th {\n",
       "        text-align: right;\n",
       "    }\n",
       "</style>\n",
       "<table border=\"1\" class=\"dataframe\">\n",
       "  <thead>\n",
       "    <tr style=\"text-align: right;\">\n",
       "      <th></th>\n",
       "      <th>TotalPremium</th>\n",
       "      <th>TotalClaims</th>\n",
       "      <th>CustomValueEstimate</th>\n",
       "    </tr>\n",
       "  </thead>\n",
       "  <tbody>\n",
       "    <tr>\n",
       "      <th>count</th>\n",
       "      <td>1.000098e+06</td>\n",
       "      <td>1.000098e+06</td>\n",
       "      <td>2.204560e+05</td>\n",
       "    </tr>\n",
       "    <tr>\n",
       "      <th>mean</th>\n",
       "      <td>6.190550e+01</td>\n",
       "      <td>6.486119e+01</td>\n",
       "      <td>2.255311e+05</td>\n",
       "    </tr>\n",
       "    <tr>\n",
       "      <th>std</th>\n",
       "      <td>2.302845e+02</td>\n",
       "      <td>2.384075e+03</td>\n",
       "      <td>5.645157e+05</td>\n",
       "    </tr>\n",
       "    <tr>\n",
       "      <th>min</th>\n",
       "      <td>-7.825768e+02</td>\n",
       "      <td>-1.200241e+04</td>\n",
       "      <td>2.000000e+04</td>\n",
       "    </tr>\n",
       "    <tr>\n",
       "      <th>25%</th>\n",
       "      <td>0.000000e+00</td>\n",
       "      <td>0.000000e+00</td>\n",
       "      <td>1.350000e+05</td>\n",
       "    </tr>\n",
       "    <tr>\n",
       "      <th>50%</th>\n",
       "      <td>2.178333e+00</td>\n",
       "      <td>0.000000e+00</td>\n",
       "      <td>2.200000e+05</td>\n",
       "    </tr>\n",
       "    <tr>\n",
       "      <th>75%</th>\n",
       "      <td>2.192982e+01</td>\n",
       "      <td>0.000000e+00</td>\n",
       "      <td>2.800000e+05</td>\n",
       "    </tr>\n",
       "    <tr>\n",
       "      <th>max</th>\n",
       "      <td>6.528260e+04</td>\n",
       "      <td>3.930921e+05</td>\n",
       "      <td>2.655000e+07</td>\n",
       "    </tr>\n",
       "  </tbody>\n",
       "</table>\n",
       "</div>"
      ],
      "text/plain": [
       "       TotalPremium   TotalClaims  CustomValueEstimate\n",
       "count  1.000098e+06  1.000098e+06         2.204560e+05\n",
       "mean   6.190550e+01  6.486119e+01         2.255311e+05\n",
       "std    2.302845e+02  2.384075e+03         5.645157e+05\n",
       "min   -7.825768e+02 -1.200241e+04         2.000000e+04\n",
       "25%    0.000000e+00  0.000000e+00         1.350000e+05\n",
       "50%    2.178333e+00  0.000000e+00         2.200000e+05\n",
       "75%    2.192982e+01  0.000000e+00         2.800000e+05\n",
       "max    6.528260e+04  3.930921e+05         2.655000e+07"
      ]
     },
     "execution_count": 9,
     "metadata": {},
     "output_type": "execute_result"
    }
   ],
   "source": [
    "df[[\"TotalPremium\", \"TotalClaims\", \"CustomValueEstimate\"]].describe()"
   ]
  },
  {
   "cell_type": "markdown",
   "id": "22a10baf",
   "metadata": {},
   "source": [
    "# Data Type Conversion\n",
    "This cell checks the data types and converts the TransactionMonth column to datetime format."
   ]
  },
  {
   "cell_type": "code",
   "execution_count": null,
   "id": "267ddeed",
   "metadata": {},
   "outputs": [],
   "source": [
    "df.dtypes\n",
    "df['TransactionMonth'] = pd.to_datetime(df['TransactionMonth'])"
   ]
  },
  {
   "cell_type": "markdown",
   "id": "eff03590",
   "metadata": {},
   "source": [
    "# Missing Values Analysis\n",
    "This cell calculates and prints the percentage of missing values for each column in the DataFrame."
   ]
  },
  {
   "cell_type": "code",
   "execution_count": null,
   "id": "7c8beea5",
   "metadata": {},
   "outputs": [],
   "source": [
    "missing = df.isnull().sum().sort_values(ascending=False)\n",
    "missing_percent = (missing / len(df)) * 100\n",
    "print(missing_percent[missing_percent > 0])"
   ]
  },
  {
   "cell_type": "markdown",
   "id": "0cf984bd",
   "metadata": {},
   "source": [
    "# Distribution Plots\n",
    "This cell visualizes the distributions of TotalClaims, CustomValueEstimate, and the count of Gender using histograms and a count plot."
   ]
  },
  {
   "cell_type": "code",
   "execution_count": null,
   "id": "ff10b734",
   "metadata": {},
   "outputs": [],
   "source": [
    "sns.histplot(df[\"TotalClaims\"], kde=True)\n",
    "sns.histplot(df[\"CustomValueEstimate\"], kde=True)\n",
    "sns.countplot(data=df, x=\"Gender\")\n"
   ]
  },
  {
   "cell_type": "markdown",
   "id": "2706ef21",
   "metadata": {},
   "source": [
    "# Loss Ratio by Province and Gender\n",
    "This cell calculates the Loss Ratio and visualizes the average Loss Ratio by Province and Gender using a bar plot."
   ]
  },
  {
   "cell_type": "code",
   "execution_count": null,
   "id": "e68829a1",
   "metadata": {},
   "outputs": [],
   "source": [
    "# Loss Ratio by Province and Gender\n",
    "df[\"LossRatio\"] = df[\"TotalClaims\"] / df[\"TotalPremium\"]\n",
    "\n",
    "province_gender = df.groupby([\"Province\", \"Gender\"])[\"LossRatio\"].mean().unstack()\n",
    "province_gender.plot(kind=\"bar\", figsize=(12, 6))"
   ]
  },
  {
   "cell_type": "markdown",
   "id": "efee134f",
   "metadata": {},
   "source": [
    "# Boxplot of Total Claims by Gender\n",
    "This cell creates a boxplot to compare the distribution of Total Claims between different genders."
   ]
  },
  {
   "cell_type": "code",
   "execution_count": null,
   "id": "568c8132",
   "metadata": {},
   "outputs": [],
   "source": [
    "plt.figure(figsize=(8, 6))\n",
    "sns.boxplot(data=df, x='Gender', y='TotalClaims')\n",
    "plt.title('Boxplot of Total Claims by Gender')\n",
    "plt.ylabel('Total Claims')\n",
    "plt.xlabel('Gender')\n",
    "plt.tight_layout()\n",
    "plt.show()\n"
   ]
  },
  {
   "cell_type": "markdown",
   "id": "e07456d4",
   "metadata": {},
   "source": [
    "# Heatmap of Average Loss Ratios by Province & Vehicle Type\n",
    "This cell groups the data by Province and VehicleType, calculates the mean Loss Ratio, and visualizes it as a heatmap."
   ]
  },
  {
   "cell_type": "code",
   "execution_count": null,
   "id": "c494f301",
   "metadata": {},
   "outputs": [],
   "source": [
    "# Group by Province and VehicleType\n",
    "heatmap_data = df.groupby(['Province', 'VehicleType'])['LossRatio'].mean().unstack()\n",
    "\n",
    "# Plot heatmap\n",
    "plt.figure(figsize=(12, 8))\n",
    "sns.heatmap(heatmap_data, annot=True, fmt=\".2f\", cmap=\"YlGnBu\")\n",
    "plt.title('Heatmap of Average Loss Ratios by Province & Vehicle Type')\n",
    "plt.xlabel('Vehicle Type')\n",
    "plt.ylabel('Province')\n",
    "plt.tight_layout()\n",
    "plt.show()"
   ]
  },
  {
   "cell_type": "markdown",
   "id": "98de7e54",
   "metadata": {},
   "source": [
    "# Correlation Heatmap\n",
    "This cell visualizes the correlation between TotalPremium, TotalClaims, and CustomValueEstimate using a heatmap."
   ]
  },
  {
   "cell_type": "code",
   "execution_count": null,
   "id": "a2f097fd",
   "metadata": {},
   "outputs": [],
   "source": [
    "sns.heatmap(df[[\"TotalPremium\", \"TotalClaims\", \"CustomValueEstimate\"]].corr(), annot=True)"
   ]
  },
  {
   "cell_type": "markdown",
   "id": "9d59ceb4",
   "metadata": {},
   "source": [
    "# Monthly Trend Analysis\n",
    "This cell ensures the TransactionMonth column is in datetime format, groups the data by month, and plots the monthly totals for claims and premiums."
   ]
  },
  {
   "cell_type": "code",
   "execution_count": null,
   "id": "4d2c1b72",
   "metadata": {},
   "outputs": [],
   "source": [
    "if not pd.api.types.is_datetime64_any_dtype(df[\"TransactionMonth\"]):\n",
    "\tdf[\"TransactionMonth\"] = pd.to_datetime(df[\"TransactionMonth\"])\n",
    "\n",
    "monthly = df.groupby(df[\"TransactionMonth\"].dt.to_period(\"M\"))[ [\"TotalClaims\", \"TotalPremium\"] ].sum()\n",
    "monthly.index = monthly.index.to_timestamp() \n",
    "\n",
    "plt.figure(figsize=(14, 6))\n",
    "sns.lineplot(data=monthly)\n",
    "plt.title('Monthly Total Premium vs Total Claims')\n",
    "plt.ylabel('Amount')\n",
    "plt.xlabel('Month')\n",
    "plt.xticks(rotation=45)\n",
    "plt.tight_layout()\n",
    "plt.show()"
   ]
  },
  {
   "cell_type": "markdown",
   "id": "c11c2d0b",
   "metadata": {},
   "source": [
    "# Boxplots for Outlier Detection\n",
    "This cell creates boxplots to visualize potential outliers in TotalClaims and CustomValueEstimate."
   ]
  },
  {
   "cell_type": "code",
   "execution_count": null,
   "id": "d58aed0f",
   "metadata": {},
   "outputs": [],
   "source": [
    "sns.boxplot(data=df, x=\"TotalClaims\")\n",
    "sns.boxplot(data=df, x=\"CustomValueEstimate\")"
   ]
  },
  {
   "cell_type": "markdown",
   "id": "2b219e3f",
   "metadata": {},
   "source": [
    "# Average Claim by Vehicle Make\n",
    "This cell calculates and visualizes the top 10 vehicle makes by average claim amount using a horizontal bar plot."
   ]
  },
  {
   "cell_type": "code",
   "execution_count": 20,
   "id": "b256bdd9",
   "metadata": {},
   "outputs": [
    {
     "data": {
      "text/plain": [
       "<Axes: title={'center': 'Top 10 Makes by Avg Claim'}, ylabel='make'>"
      ]
     },
     "execution_count": 20,
     "metadata": {},
     "output_type": "execute_result"
    },
    {
     "data": {
      "image/png": "[encoded data removed]",
      "text/plain": [
       "<Figure size 640x480 with 1 Axes>"
      ]
     },
     "metadata": {},
     "output_type": "display_data"
    }
   ],
   "source": [
    "claim_by_make = df.groupby(\"make\")[\"TotalClaims\"].mean().sort_values(ascending=False)\n",
    "claim_by_make.head(10).plot(kind=\"barh\", title=\"Top 10 Makes by Avg Claim\")"
   ]
  }
 ],
 "metadata": {
  "kernelspec": {
   "display_name": "venv",
   "language": "python",
   "name": "python3"
  },
  "language_info": {
   "codemirror_mode": {
    "name": "ipython",
    "version": 3
   },
   "file_extension": ".py",
   "mimetype": "text/x-python",
   "name": "python",
   "nbconvert_exporter": "python",
   "pygments_lexer": "ipython3",
   "version": "3.12.6"
  }
 },
 "nbformat": 4,
 "nbformat_minor": 5
}
