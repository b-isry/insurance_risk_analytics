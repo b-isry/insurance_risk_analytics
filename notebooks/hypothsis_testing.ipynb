{
 "cells": [
  {
   "cell_type": "code",
   "execution_count": 10,
   "id": "f6102ef3",
   "metadata": {},
   "outputs": [],
   "source": [
    "import sys\n",
    "import os\n",
    "import pandas as pd\n",
    "import numpy as np\n",
    "import seaborn as sns\n",
    "import matplotlib.pyplot as plt\n",
    "from scipy import stats\n",
    "from statsmodels.stats.proportion import proportions_ztest\n"
   ]
  },
  {
   "cell_type": "code",
   "execution_count": 12,
   "id": "12495683",
   "metadata": {},
   "outputs": [
    {
     "name": "stdout",
     "output_type": "stream",
     "text": [
      "Everything is up to date.\n"
     ]
    },
    {
     "name": "stderr",
     "output_type": "stream",
     "text": [
      "C:\\Users\\Bisrat\\AppData\\Local\\Temp\\ipykernel_11456\\158655124.py:5: DtypeWarning: Columns (32,37) have mixed types. Specify dtype option on import or set low_memory=False.\n",
      "  df = pd.read_csv(data_path, delimiter=\"|\")\n"
     ]
    }
   ],
   "source": [
    "!dvc pull\n",
    "notebook_dir = os.getcwd()\n",
    "data_path = os.path.join(notebook_dir, \"..\", \"data\", \"MachineLearningRating_v3.txt\")\n",
    "\n",
    "df = pd.read_csv(data_path, delimiter=\"|\")\n",
    "\n",
    "# Add derived columns\n",
    "df['HasClaim'] = df['TotalClaims'] > 0\n",
    "df['ClaimFrequency'] = df['HasClaim'].astype(int)\n",
    "df['Margin'] = df['TotalPremium'] - df['TotalClaims']\n"
   ]
  },
  {
   "cell_type": "code",
   "execution_count": 13,
   "id": "0aa46187",
   "metadata": {},
   "outputs": [
    {
     "name": "stdout",
     "output_type": "stream",
     "text": [
      "Chi2 = 104.19, p = 0.0000\n",
      "Reject H₀: Risk differs across provinces.\n"
     ]
    }
   ],
   "source": [
    "province_claims = df.groupby('Province')['HasClaim'].agg(['sum', 'count'])\n",
    "province_claims.columns = ['Claims', 'Total']\n",
    "province_claims['NonClaims'] = province_claims['Total'] - province_claims['Claims']\n",
    "\n",
    "# Create contingency table\n",
    "contingency_table = province_claims[['Claims', 'NonClaims']].values\n",
    "\n",
    "# Chi-squared test\n",
    "chi2, p, dof, expected = stats.chi2_contingency(contingency_table)\n",
    "\n",
    "print(f\"Chi2 = {chi2:.2f}, p = {p:.4f}\")\n",
    "\n",
    "if p < 0.05:\n",
    "    print(\"Reject H₀: Risk differs across provinces.\")\n",
    "else:\n",
    "    print(\"Fail to reject H₀: No significant difference.\")\n"
   ]
  },
  {
   "cell_type": "code",
   "execution_count": 15,
   "id": "1c79bdab",
   "metadata": {},
   "outputs": [
    {
     "name": "stdout",
     "output_type": "stream",
     "text": [
      "T = 1.16, p = 0.2445\n",
      "Fail to reject H₀: No margin difference between 2000 and 122.\n"
     ]
    }
   ],
   "source": [
    "# Get top 2 zip codes\n",
    "top_zips = df['PostalCode'].value_counts().head(2).index.tolist()\n",
    "zip_data = df[df['PostalCode'].isin(top_zips)]\n",
    "\n",
    "group_1 = zip_data[zip_data['PostalCode'] == top_zips[0]]['Margin']\n",
    "group_2 = zip_data[zip_data['PostalCode'] == top_zips[1]]['Margin']\n",
    "\n",
    "# T-test\n",
    "t_stat, p_val = stats.ttest_ind(group_1, group_2, equal_var=False)\n",
    "\n",
    "print(f\"T = {t_stat:.2f}, p = {p_val:.4f}\")\n",
    "\n",
    "if p_val < 0.05:\n",
    "    print(f\"Reject H₀: Margin differs between {top_zips[0]} and {top_zips[1]}.\")\n",
    "else:\n",
    "    print(f\"Fail to reject H₀: No margin difference between {top_zips[0]} and {top_zips[1]}.\")\n"
   ]
  },
  {
   "cell_type": "code",
   "execution_count": 16,
   "id": "21673ac3",
   "metadata": {},
   "outputs": [
    {
     "name": "stdout",
     "output_type": "stream",
     "text": [
      "F = 1.17, p = 0.3228\n",
      "Fail to reject H₀: No significant severity difference.\n"
     ]
    }
   ],
   "source": [
    "df_claims = df[df['TotalClaims'] > 0]\n",
    "grouped = df_claims.groupby('VehicleType')['TotalClaims'].apply(list)\n",
    "\n",
    "# ANOVA\n",
    "f_stat, p_val = stats.f_oneway(*grouped)\n",
    "\n",
    "print(f\"F = {f_stat:.2f}, p = {p_val:.4f}\")\n",
    "\n",
    "if p_val < 0.05:\n",
    "    print(\"Reject H₀: Severity differs across vehicle types.\")\n",
    "else:\n",
    "    print(\"Fail to reject H₀: No significant severity difference.\")\n"
   ]
  }
 ],
 "metadata": {
  "kernelspec": {
   "display_name": "venv",
   "language": "python",
   "name": "python3"
  },
  "language_info": {
   "codemirror_mode": {
    "name": "ipython",
    "version": 3
   },
   "file_extension": ".py",
   "mimetype": "text/x-python",
   "name": "python",
   "nbconvert_exporter": "python",
   "pygments_lexer": "ipython3",
   "version": "3.12.6"
  }
 },
 "nbformat": 4,
 "nbformat_minor": 5
}
